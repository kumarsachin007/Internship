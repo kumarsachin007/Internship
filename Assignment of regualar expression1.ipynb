{
 "cells": [
  {
   "cell_type": "markdown",
   "id": "92d7614c",
   "metadata": {},
   "source": [
    "##### 1.Write a Python program to replace all occurrences of a space, comma, or dot with a colon."
   ]
  },
  {
   "cell_type": "code",
   "execution_count": 5,
   "id": "5f60919e",
   "metadata": {},
   "outputs": [],
   "source": [
    "import re"
   ]
  },
  {
   "cell_type": "code",
   "execution_count": 6,
   "id": "3eb9737d",
   "metadata": {},
   "outputs": [
    {
     "name": "stdout",
     "output_type": "stream",
     "text": [
      "Python:Exercises::PHP:exercises:\n"
     ]
    }
   ],
   "source": [
    "target_string = 'Python Exercises, PHP exercises.'\n",
    "print(re.sub(\"[\\s\\,\\.]\",\":\",target_string))\n"
   ]
  },
  {
   "cell_type": "markdown",
   "id": "691fae80",
   "metadata": {},
   "source": [
    "##### 2.Create a dataframe using the dictionary below and remove everything (commas (,), !, XXXX, ;, etc.) from the columns except words.\n"
   ]
  },
  {
   "cell_type": "code",
   "execution_count": 51,
   "id": "acb2421e",
   "metadata": {},
   "outputs": [],
   "source": [
    "import pandas as pd"
   ]
  },
  {
   "cell_type": "code",
   "execution_count": 52,
   "id": "8f244704",
   "metadata": {},
   "outputs": [
    {
     "data": {
      "text/html": [
       "<div>\n",
       "<style scoped>\n",
       "    .dataframe tbody tr th:only-of-type {\n",
       "        vertical-align: middle;\n",
       "    }\n",
       "\n",
       "    .dataframe tbody tr th {\n",
       "        vertical-align: top;\n",
       "    }\n",
       "\n",
       "    .dataframe thead th {\n",
       "        text-align: right;\n",
       "    }\n",
       "</style>\n",
       "<table border=\"1\" class=\"dataframe\">\n",
       "  <thead>\n",
       "    <tr style=\"text-align: right;\">\n",
       "      <th></th>\n",
       "      <th>SUMMARY</th>\n",
       "    </tr>\n",
       "  </thead>\n",
       "  <tbody>\n",
       "    <tr>\n",
       "      <th>0</th>\n",
       "      <td>hello, world!</td>\n",
       "    </tr>\n",
       "    <tr>\n",
       "      <th>1</th>\n",
       "      <td>XXXXX test</td>\n",
       "    </tr>\n",
       "    <tr>\n",
       "      <th>2</th>\n",
       "      <td>123four, five:; six...</td>\n",
       "    </tr>\n",
       "  </tbody>\n",
       "</table>\n",
       "</div>"
      ],
      "text/plain": [
       "                  SUMMARY\n",
       "0           hello, world!\n",
       "1              XXXXX test\n",
       "2  123four, five:; six..."
      ]
     },
     "execution_count": 52,
     "metadata": {},
     "output_type": "execute_result"
    }
   ],
   "source": [
    "dict1={'SUMMARY' : ['hello, world!', 'XXXXX test', '123four, five:; six...']}\n",
    "\n",
    "df=pd.DataFrame(dict1)\n",
    "df"
   ]
  },
  {
   "cell_type": "code",
   "execution_count": 56,
   "id": "7cb01fec",
   "metadata": {},
   "outputs": [
    {
     "data": {
      "text/plain": [
       "0      hello world\n",
       "1             test\n",
       "2    four five six\n",
       "Name: SUMMARY, dtype: object"
      ]
     },
     "execution_count": 56,
     "metadata": {},
     "output_type": "execute_result"
    }
   ],
   "source": [
    "df1 = df['SUMMARY'].str.replace('[^a-xA-W\\s]', '', regex=True)\n",
    "df1"
   ]
  },
  {
   "cell_type": "markdown",
   "id": "0d888caf",
   "metadata": {},
   "source": [
    "##### 3.Create a function in python to find all words that are at least 4 characters long in a string. The use of the re.compile() method is mandatory."
   ]
  },
  {
   "cell_type": "code",
   "execution_count": 89,
   "id": "3875c369",
   "metadata": {},
   "outputs": [
    {
     "name": "stdout",
     "output_type": "stream",
     "text": [
      "['name', 'robo']\n"
     ]
    }
   ],
   "source": [
    "string = 'My name is sachin kumar and i am intern of filip robo technology'\n",
    "def word(string):\n",
    "    pattern = re.compile(r'\\b\\w{4}\\b')\n",
    "    return pattern.findall(string)\n",
    "result = word(string)\n",
    "print(result)\n",
    "\n",
    "\n"
   ]
  },
  {
   "cell_type": "markdown",
   "id": "bf69152d",
   "metadata": {},
   "source": [
    "##### Question 4- Create a function in python to find all three, four, and five character words in a string. The use of the re.compile() method is mandatory."
   ]
  },
  {
   "cell_type": "code",
   "execution_count": 100,
   "id": "124edcbc",
   "metadata": {},
   "outputs": [
    {
     "name": "stdout",
     "output_type": "stream",
     "text": [
      "['find', 'all', 'three', 'four', 'and', 'five', 'words', 'The', 'use', 'the']\n"
     ]
    }
   ],
   "source": [
    "string1 ='Create a function in python to find all three, four, and five character words in a string. The use of the re.compile() method is mandatory.'\n",
    "def word1(string1):\n",
    "    pattern = re.compile(r'\\b\\w{3,5}\\b')\n",
    "    return pattern.findall(string1)\n",
    "result1 = word1(string1)\n",
    "print(result1)\n"
   ]
  },
  {
   "cell_type": "markdown",
   "id": "1046133c",
   "metadata": {},
   "source": [
    "##### Question 5- Create a function in Python to remove the parenthesis in a list of strings. The use of the re.compile() method is mandatory."
   ]
  },
  {
   "cell_type": "code",
   "execution_count": 123,
   "id": "39d656db",
   "metadata": {},
   "outputs": [
    {
     "name": "stdout",
     "output_type": "stream",
     "text": [
      "example\n",
      "hr@fliprobo\n",
      "github\n",
      "Hello\n",
      "Data\n"
     ]
    }
   ],
   "source": [
    "def remove_parentheses(strings):\n",
    "    pattern = re.compile(r'\\(.*?\\)')\n",
    "    modified_strings = [pattern.sub('', string).replace(\" \", \"\") for string in strings]\n",
    "    return modified_strings\n",
    "sample_text = [\"example (.com)\", \"hr@fliprobo (.com)\", \"github (.com)\", \"Hello (Data Science World)\", \"Data (Scientist)\"]\n",
    "result = remove_parentheses(sample_text)\n",
    "\n",
    "for line in result:\n",
    "    print(line)"
   ]
  },
  {
   "cell_type": "markdown",
   "id": "7f0f0646",
   "metadata": {},
   "source": [
    "##### Question 6- Write a python program to remove the parenthesis area from the text stored in the text file using Regular Expression.\n"
   ]
  },
  {
   "cell_type": "code",
   "execution_count": 126,
   "id": "e3492d25",
   "metadata": {},
   "outputs": [
    {
     "name": "stdout",
     "output_type": "stream",
     "text": [
      "['example ', 'hr@fliprobo ', 'github ', 'Hello ', 'Data '] "
     ]
    }
   ],
   "source": [
    "def remove_parenthesis(strings):\n",
    "    pattern = re.compile(r'\\([^)]*\\)')\n",
    "    result = [re.sub(pattern, '', s) for s in strings]\n",
    "    return result\n",
    "\n",
    "sample_text = [\"example (.com)\", \"hr@fliprobo (.com)\", \"github (.com)\", \"Hello (Data Science World)\", \"Data (Scientist)\"]\n",
    "result = remove_parenthesis(sample_text)\n",
    "print(result,end=' ')"
   ]
  },
  {
   "cell_type": "markdown",
   "id": "8f835e21",
   "metadata": {},
   "source": [
    "##### Question 7- Write a regular expression in Python to split a string into uppercase letters.\n",
    " ##### Sample text: “ImportanceOfRegularExpressionsInPython”\n"
   ]
  },
  {
   "cell_type": "code",
   "execution_count": 141,
   "id": "a18aafc2",
   "metadata": {},
   "outputs": [
    {
     "name": "stdout",
     "output_type": "stream",
     "text": [
      "['Importance', 'Of', 'Regular', 'Expressions', 'In', 'Python']\n"
     ]
    }
   ],
   "source": [
    "def split_uppercase_letters(text):\n",
    "    pattern = re.compile(r'(?<=[a-z])(?=[A-Z])')\n",
    "    return pattern.split(text)\n",
    "sample_text = \"ImportanceOfRegularExpressionsInPython\"\n",
    "result = split_uppercase_letters(sample_text)\n",
    "print(result)"
   ]
  },
  {
   "cell_type": "markdown",
   "id": "d94b2c3f",
   "metadata": {},
   "source": [
    "##### Question 8- Create a function in python to insert spaces between words starting with numbers.\n",
    "##### Sample Text: “RegularExpression1IsAn2ImportantTopic3InPython\"\n",
    "##### Expected Output: RegularExpression 1IsAn 2ImportantTopic 3InPython\n"
   ]
  },
  {
   "cell_type": "code",
   "execution_count": 143,
   "id": "3c42d4c5",
   "metadata": {},
   "outputs": [
    {
     "name": "stdout",
     "output_type": "stream",
     "text": [
      "RegularExpression1 IsAn2 ImportantTopic3 InPython\n"
     ]
    }
   ],
   "source": [
    "def insert_spaces(text):\n",
    "    pattern = re.compile(r'(\\d)([A-Z])')\n",
    "    return pattern.sub(r'\\1 \\2', text)\n",
    "sample_text = \"RegularExpression1IsAn2ImportantTopic3InPython\"\n",
    "result = insert_spaces(sample_text)\n",
    "print(result)"
   ]
  },
  {
   "cell_type": "markdown",
   "id": "97cf2717",
   "metadata": {},
   "source": [
    "##### Question 9- Create a function in python to insert spaces between words starting with capital letters or with numbers.\n",
    "##### Sample Text: “RegularExpression1IsAn2ImportantTopic3InPython\"\n",
    "##### Expected Output:  RegularExpression 1 IsAn 2 ImportantTopic 3 InPython\n"
   ]
  },
  {
   "cell_type": "code",
   "execution_count": 144,
   "id": "44640cfc",
   "metadata": {},
   "outputs": [
    {
     "name": "stdout",
     "output_type": "stream",
     "text": [
      "Regular Expression1 Is An2 Important Topic3 In Python\n"
     ]
    }
   ],
   "source": [
    "def insert_spaces(text):\n",
    "    pattern = r'([A-Z][a-z0-9]+|\\d+)'\n",
    "    result = re.sub(pattern, r' \\1', text)\n",
    "    result = result.strip()\n",
    "    return result\n",
    "sample_text = \"RegularExpression1IsAn2ImportantTopic3InPython\"\n",
    "result = insert_spaces(sample_text)\n",
    "print(result)"
   ]
  },
  {
   "cell_type": "markdown",
   "id": "959b4c01",
   "metadata": {},
   "source": [
    "#### Question 10- Use the github link below to read the data and create a dataframe. After creating the dataframe extract the first 6 letters of each country and store in the dataframe under a new column called first_five_letters."
   ]
  },
  {
   "cell_type": "code",
   "execution_count": 145,
   "id": "89580663",
   "metadata": {},
   "outputs": [
    {
     "data": {
      "text/html": [
       "<div>\n",
       "<style scoped>\n",
       "    .dataframe tbody tr th:only-of-type {\n",
       "        vertical-align: middle;\n",
       "    }\n",
       "\n",
       "    .dataframe tbody tr th {\n",
       "        vertical-align: top;\n",
       "    }\n",
       "\n",
       "    .dataframe thead th {\n",
       "        text-align: right;\n",
       "    }\n",
       "</style>\n",
       "<table border=\"1\" class=\"dataframe\">\n",
       "  <thead>\n",
       "    <tr style=\"text-align: right;\">\n",
       "      <th></th>\n",
       "      <th>Country</th>\n",
       "      <th>Region</th>\n",
       "      <th>Happiness Rank</th>\n",
       "      <th>Happiness Score</th>\n",
       "      <th>Standard Error</th>\n",
       "      <th>Economy (GDP per Capita)</th>\n",
       "      <th>Family</th>\n",
       "      <th>Health (Life Expectancy)</th>\n",
       "      <th>Freedom</th>\n",
       "      <th>Trust (Government Corruption)</th>\n",
       "      <th>Generosity</th>\n",
       "      <th>Dystopia Residual</th>\n",
       "    </tr>\n",
       "  </thead>\n",
       "  <tbody>\n",
       "    <tr>\n",
       "      <th>0</th>\n",
       "      <td>Switzerland</td>\n",
       "      <td>Western Europe</td>\n",
       "      <td>1</td>\n",
       "      <td>7.587</td>\n",
       "      <td>0.03411</td>\n",
       "      <td>1.39651</td>\n",
       "      <td>1.34951</td>\n",
       "      <td>0.94143</td>\n",
       "      <td>0.66557</td>\n",
       "      <td>0.41978</td>\n",
       "      <td>0.29678</td>\n",
       "      <td>2.51738</td>\n",
       "    </tr>\n",
       "    <tr>\n",
       "      <th>1</th>\n",
       "      <td>Iceland</td>\n",
       "      <td>Western Europe</td>\n",
       "      <td>2</td>\n",
       "      <td>7.561</td>\n",
       "      <td>0.04884</td>\n",
       "      <td>1.30232</td>\n",
       "      <td>1.40223</td>\n",
       "      <td>0.94784</td>\n",
       "      <td>0.62877</td>\n",
       "      <td>0.14145</td>\n",
       "      <td>0.43630</td>\n",
       "      <td>2.70201</td>\n",
       "    </tr>\n",
       "    <tr>\n",
       "      <th>2</th>\n",
       "      <td>Denmark</td>\n",
       "      <td>Western Europe</td>\n",
       "      <td>3</td>\n",
       "      <td>7.527</td>\n",
       "      <td>0.03328</td>\n",
       "      <td>1.32548</td>\n",
       "      <td>1.36058</td>\n",
       "      <td>0.87464</td>\n",
       "      <td>0.64938</td>\n",
       "      <td>0.48357</td>\n",
       "      <td>0.34139</td>\n",
       "      <td>2.49204</td>\n",
       "    </tr>\n",
       "    <tr>\n",
       "      <th>3</th>\n",
       "      <td>Norway</td>\n",
       "      <td>Western Europe</td>\n",
       "      <td>4</td>\n",
       "      <td>7.522</td>\n",
       "      <td>0.03880</td>\n",
       "      <td>1.45900</td>\n",
       "      <td>1.33095</td>\n",
       "      <td>0.88521</td>\n",
       "      <td>0.66973</td>\n",
       "      <td>0.36503</td>\n",
       "      <td>0.34699</td>\n",
       "      <td>2.46531</td>\n",
       "    </tr>\n",
       "    <tr>\n",
       "      <th>4</th>\n",
       "      <td>Canada</td>\n",
       "      <td>North America</td>\n",
       "      <td>5</td>\n",
       "      <td>7.427</td>\n",
       "      <td>0.03553</td>\n",
       "      <td>1.32629</td>\n",
       "      <td>1.32261</td>\n",
       "      <td>0.90563</td>\n",
       "      <td>0.63297</td>\n",
       "      <td>0.32957</td>\n",
       "      <td>0.45811</td>\n",
       "      <td>2.45176</td>\n",
       "    </tr>\n",
       "    <tr>\n",
       "      <th>...</th>\n",
       "      <td>...</td>\n",
       "      <td>...</td>\n",
       "      <td>...</td>\n",
       "      <td>...</td>\n",
       "      <td>...</td>\n",
       "      <td>...</td>\n",
       "      <td>...</td>\n",
       "      <td>...</td>\n",
       "      <td>...</td>\n",
       "      <td>...</td>\n",
       "      <td>...</td>\n",
       "      <td>...</td>\n",
       "    </tr>\n",
       "    <tr>\n",
       "      <th>153</th>\n",
       "      <td>Rwanda</td>\n",
       "      <td>Sub-Saharan Africa</td>\n",
       "      <td>154</td>\n",
       "      <td>3.465</td>\n",
       "      <td>0.03464</td>\n",
       "      <td>0.22208</td>\n",
       "      <td>0.77370</td>\n",
       "      <td>0.42864</td>\n",
       "      <td>0.59201</td>\n",
       "      <td>0.55191</td>\n",
       "      <td>0.22628</td>\n",
       "      <td>0.67042</td>\n",
       "    </tr>\n",
       "    <tr>\n",
       "      <th>154</th>\n",
       "      <td>Benin</td>\n",
       "      <td>Sub-Saharan Africa</td>\n",
       "      <td>155</td>\n",
       "      <td>3.340</td>\n",
       "      <td>0.03656</td>\n",
       "      <td>0.28665</td>\n",
       "      <td>0.35386</td>\n",
       "      <td>0.31910</td>\n",
       "      <td>0.48450</td>\n",
       "      <td>0.08010</td>\n",
       "      <td>0.18260</td>\n",
       "      <td>1.63328</td>\n",
       "    </tr>\n",
       "    <tr>\n",
       "      <th>155</th>\n",
       "      <td>Syria</td>\n",
       "      <td>Middle East and Northern Africa</td>\n",
       "      <td>156</td>\n",
       "      <td>3.006</td>\n",
       "      <td>0.05015</td>\n",
       "      <td>0.66320</td>\n",
       "      <td>0.47489</td>\n",
       "      <td>0.72193</td>\n",
       "      <td>0.15684</td>\n",
       "      <td>0.18906</td>\n",
       "      <td>0.47179</td>\n",
       "      <td>0.32858</td>\n",
       "    </tr>\n",
       "    <tr>\n",
       "      <th>156</th>\n",
       "      <td>Burundi</td>\n",
       "      <td>Sub-Saharan Africa</td>\n",
       "      <td>157</td>\n",
       "      <td>2.905</td>\n",
       "      <td>0.08658</td>\n",
       "      <td>0.01530</td>\n",
       "      <td>0.41587</td>\n",
       "      <td>0.22396</td>\n",
       "      <td>0.11850</td>\n",
       "      <td>0.10062</td>\n",
       "      <td>0.19727</td>\n",
       "      <td>1.83302</td>\n",
       "    </tr>\n",
       "    <tr>\n",
       "      <th>157</th>\n",
       "      <td>Togo</td>\n",
       "      <td>Sub-Saharan Africa</td>\n",
       "      <td>158</td>\n",
       "      <td>2.839</td>\n",
       "      <td>0.06727</td>\n",
       "      <td>0.20868</td>\n",
       "      <td>0.13995</td>\n",
       "      <td>0.28443</td>\n",
       "      <td>0.36453</td>\n",
       "      <td>0.10731</td>\n",
       "      <td>0.16681</td>\n",
       "      <td>1.56726</td>\n",
       "    </tr>\n",
       "  </tbody>\n",
       "</table>\n",
       "<p>158 rows × 12 columns</p>\n",
       "</div>"
      ],
      "text/plain": [
       "         Country                           Region  Happiness Rank  \\\n",
       "0    Switzerland                   Western Europe               1   \n",
       "1        Iceland                   Western Europe               2   \n",
       "2        Denmark                   Western Europe               3   \n",
       "3         Norway                   Western Europe               4   \n",
       "4         Canada                    North America               5   \n",
       "..           ...                              ...             ...   \n",
       "153       Rwanda               Sub-Saharan Africa             154   \n",
       "154        Benin               Sub-Saharan Africa             155   \n",
       "155        Syria  Middle East and Northern Africa             156   \n",
       "156      Burundi               Sub-Saharan Africa             157   \n",
       "157         Togo               Sub-Saharan Africa             158   \n",
       "\n",
       "     Happiness Score  Standard Error  Economy (GDP per Capita)   Family  \\\n",
       "0              7.587         0.03411                   1.39651  1.34951   \n",
       "1              7.561         0.04884                   1.30232  1.40223   \n",
       "2              7.527         0.03328                   1.32548  1.36058   \n",
       "3              7.522         0.03880                   1.45900  1.33095   \n",
       "4              7.427         0.03553                   1.32629  1.32261   \n",
       "..               ...             ...                       ...      ...   \n",
       "153            3.465         0.03464                   0.22208  0.77370   \n",
       "154            3.340         0.03656                   0.28665  0.35386   \n",
       "155            3.006         0.05015                   0.66320  0.47489   \n",
       "156            2.905         0.08658                   0.01530  0.41587   \n",
       "157            2.839         0.06727                   0.20868  0.13995   \n",
       "\n",
       "     Health (Life Expectancy)  Freedom  Trust (Government Corruption)  \\\n",
       "0                     0.94143  0.66557                        0.41978   \n",
       "1                     0.94784  0.62877                        0.14145   \n",
       "2                     0.87464  0.64938                        0.48357   \n",
       "3                     0.88521  0.66973                        0.36503   \n",
       "4                     0.90563  0.63297                        0.32957   \n",
       "..                        ...      ...                            ...   \n",
       "153                   0.42864  0.59201                        0.55191   \n",
       "154                   0.31910  0.48450                        0.08010   \n",
       "155                   0.72193  0.15684                        0.18906   \n",
       "156                   0.22396  0.11850                        0.10062   \n",
       "157                   0.28443  0.36453                        0.10731   \n",
       "\n",
       "     Generosity  Dystopia Residual  \n",
       "0       0.29678            2.51738  \n",
       "1       0.43630            2.70201  \n",
       "2       0.34139            2.49204  \n",
       "3       0.34699            2.46531  \n",
       "4       0.45811            2.45176  \n",
       "..          ...                ...  \n",
       "153     0.22628            0.67042  \n",
       "154     0.18260            1.63328  \n",
       "155     0.47179            0.32858  \n",
       "156     0.19727            1.83302  \n",
       "157     0.16681            1.56726  \n",
       "\n",
       "[158 rows x 12 columns]"
      ]
     },
     "execution_count": 145,
     "metadata": {},
     "output_type": "execute_result"
    }
   ],
   "source": [
    "df2 = pd.read_csv(r'https://raw.githubusercontent.com/dsrscientist/DSData/master/happiness_score_dataset.csv')\n",
    "df2"
   ]
  },
  {
   "cell_type": "code",
   "execution_count": 149,
   "id": "9eb089c9",
   "metadata": {},
   "outputs": [
    {
     "name": "stdout",
     "output_type": "stream",
     "text": [
      "0      Switze\n",
      "1      Icelan\n",
      "2      Denmar\n",
      "3      Norway\n",
      "4      Canada\n",
      "        ...  \n",
      "153    Rwanda\n",
      "154     Benin\n",
      "155     Syria\n",
      "156    Burund\n",
      "157      Togo\n",
      "Name: first_five_letters, Length: 158, dtype: object\n"
     ]
    }
   ],
   "source": [
    "df2['first_five_letters'] = df2['Country'].apply(lambda x: x[:6])\n",
    "print(df2['first_five_letters'])"
   ]
  },
  {
   "cell_type": "markdown",
   "id": "8a9502aa",
   "metadata": {},
   "source": [
    "##### Question 11- Write a Python program to match a string that contains only upper and lowercase letters, numbers, and underscores."
   ]
  },
  {
   "cell_type": "code",
   "execution_count": 152,
   "id": "44f45d24",
   "metadata": {},
   "outputs": [
    {
     "name": "stdout",
     "output_type": "stream",
     "text": [
      "String matches the pattern\n"
     ]
    }
   ],
   "source": [
    "def match_string(string):\n",
    "    pattern = r'^[a-zA-Z0-9_]+$'\n",
    "    if re.match(pattern, string):\n",
    "        print(\"String matches the pattern\")\n",
    "    else:\n",
    "        print(\"String does not match the pattern\")\n",
    "        \n",
    "match_string(\"Hello_World123\")"
   ]
  },
  {
   "cell_type": "markdown",
   "id": "0cbedacf",
   "metadata": {},
   "source": [
    "##### Question 12- Write a Python program where a string will start with a specific number. "
   ]
  },
  {
   "cell_type": "code",
   "execution_count": 153,
   "id": "d279d0af",
   "metadata": {},
   "outputs": [
    {
     "name": "stdout",
     "output_type": "stream",
     "text": [
      "True\n",
      "False\n"
     ]
    }
   ],
   "source": [
    "def match_num(string):\n",
    "    text = re.compile(r\"^5\")\n",
    "    if text.match(string):\n",
    "        return True\n",
    "    else:\n",
    "        return False\n",
    "print(match_num('5-2345861'))\n",
    "print(match_num('6-2345861'))"
   ]
  },
  {
   "cell_type": "markdown",
   "id": "cf674842",
   "metadata": {},
   "source": [
    "##### Question 13- Write a Python program to remove leading zeros from an IP address"
   ]
  },
  {
   "cell_type": "code",
   "execution_count": 155,
   "id": "5477a197",
   "metadata": {},
   "outputs": [
    {
     "name": "stdout",
     "output_type": "stream",
     "text": [
      "126.1.98.192\n"
     ]
    }
   ],
   "source": [
    "ip = \"126.01.098.192\"\n",
    "string = re.sub('\\.[0]*', '.', ip)\n",
    "print(string)\n"
   ]
  },
  {
   "cell_type": "markdown",
   "id": "7d3155bb",
   "metadata": {},
   "source": [
    "##### Question 14- Write a regular expression in python to match a date string in the form of Month name followed by day number and year stored in a text file.\n",
    "##### Sample text :  ' On August 15th 1947 that India was declared independent from British colonialism, and the reins of control were handed over to the leaders of the Country’.\n",
    "##### Expected Output- August 15th 1947\n"
   ]
  },
  {
   "cell_type": "code",
   "execution_count": 163,
   "id": "6121d406",
   "metadata": {},
   "outputs": [
    {
     "name": "stdout",
     "output_type": "stream",
     "text": [
      "August 15th 1947\n"
     ]
    }
   ],
   "source": [
    "Sample_text ='On August 15th 1947 that India was declared independent from British colonialism, and the reins of control were handed over to the leaders of the Country.'\n",
    "pattern = r'\\b(?:January|February|March|April|May|June|July|August|September|October|November|December)\\s+\\d{1,2}(?:st|nd|rd|th)\\s+\\d{4}\\b'\n",
    "matches = re.search(pattern, Sample_text)\n",
    "\n",
    "if matches:\n",
    "    print(matches.group(0))"
   ]
  },
  {
   "cell_type": "markdown",
   "id": "a97bdb68",
   "metadata": {},
   "source": [
    "##### Question 15- Write a Python program to search some literals strings in a string. \n",
    "##### Sample text : 'The quick brown fox jumps over the lazy dog.'\n",
    "##### Searched words : 'fox', 'dog', 'horse'\n"
   ]
  },
  {
   "cell_type": "code",
   "execution_count": 166,
   "id": "172ba00a",
   "metadata": {},
   "outputs": [
    {
     "name": "stdout",
     "output_type": "stream",
     "text": [
      "'fox' found in the Sample_text.\n",
      "'dog' found in the Sample_text.\n",
      "'horse' not found in the text.\n"
     ]
    }
   ],
   "source": [
    "Sample_text = 'The quick brown fox jumps over the lazy dog.'\n",
    "searched_words = ['fox', 'dog', 'horse']\n",
    "\n",
    "for word in searched_words:\n",
    "    if re.search(word, Sample_text):\n",
    "        print(f'\\'{word}\\' found in the Sample_text.')\n",
    "    else:\n",
    "        print(f'\\'{word}\\' not found in the text.')"
   ]
  },
  {
   "cell_type": "markdown",
   "id": "d239007f",
   "metadata": {},
   "source": [
    "##### Question 16- Write a Python program to search a literals string in a string and also find the location within the original string where the pattern occurs\n",
    "##### Sample text : 'The quick brown fox jumps over the lazy dog.'\n",
    "##### Searched words : 'fox'\n"
   ]
  },
  {
   "cell_type": "code",
   "execution_count": 167,
   "id": "01e89e8f",
   "metadata": {},
   "outputs": [
    {
     "name": "stdout",
     "output_type": "stream",
     "text": [
      "Found \"fox\" in \"The quick brown fox jumps over the lazy dog.\" from 16 to 19 \n"
     ]
    }
   ],
   "source": [
    "pattern = 'fox'\n",
    "Sample_text  = 'The quick brown fox jumps over the lazy dog.'\n",
    "match = re.search(pattern, text)\n",
    "s = match.start()\n",
    "e = match.end()\n",
    "print('Found \"%s\" in \"%s\" from %d to %d ' % \\\n",
    "    (match.re.pattern, match.string, s, e))\n",
    "\t"
   ]
  },
  {
   "cell_type": "markdown",
   "id": "02478391",
   "metadata": {},
   "source": [
    "\n",
    "##### Question 17- Write a Python program to find the substrings within a string.\n",
    "##### Sample text : 'Python exercises, PHP exercises, C# exercises'\n",
    "##### Pattern : 'exercises'.\n"
   ]
  },
  {
   "cell_type": "code",
   "execution_count": 172,
   "id": "cd38e05b",
   "metadata": {},
   "outputs": [
    {
     "name": "stdout",
     "output_type": "stream",
     "text": [
      " \"exercises\"\n",
      " \"exercises\"\n",
      " \"exercises\"\n"
     ]
    }
   ],
   "source": [
    "Sample_text = 'Python exercises, PHP exercises, C# exercises'\n",
    "pattern = 'exercises'\n",
    "for match in re.findall(pattern, Sample_text):\n",
    "    print(' \"%s\"' % match)"
   ]
  },
  {
   "cell_type": "markdown",
   "id": "3f28d6e4",
   "metadata": {},
   "source": [
    "##### Question 18- Write a Python program to find the occurrence and position of the substrings within a string."
   ]
  },
  {
   "cell_type": "code",
   "execution_count": 174,
   "id": "8c394cd9",
   "metadata": {},
   "outputs": [
    {
     "name": "stdout",
     "output_type": "stream",
     "text": [
      " \"ck brown \" at 7:16\n",
      " \"mps over \" at 22:31\n",
      " \"azy dog.\" at 36:45\n"
     ]
    }
   ],
   "source": [
    "Sample_text = 'Python exercises, PHP exercises, C# exercises'\n",
    "pattern = 'exercises'\n",
    "for match in re.finditer(pattern, Sample_text):\n",
    "    s = match.start()\n",
    "    e = match.end()\n",
    "    print(' \"%s\" at %d:%d' % (text[s:e], s, e))"
   ]
  },
  {
   "cell_type": "markdown",
   "id": "0d21bd10",
   "metadata": {},
   "source": [
    "##### Question 19- Write a Python program to convert a date of yyyy-mm-dd format to dd-mm-yyyy format."
   ]
  },
  {
   "cell_type": "code",
   "execution_count": 176,
   "id": "80d5fd1c",
   "metadata": {},
   "outputs": [
    {
     "name": "stdout",
     "output_type": "stream",
     "text": [
      "Original date in YYY-MM-DD Format:  2026-01-02\n",
      "New date in DD-MM-YYYY Format:  02-01-2026\n"
     ]
    }
   ],
   "source": [
    "def change_date(dt):\n",
    "        return re.sub(r'(\\d{4})-(\\d{1,2})-(\\d{1,2})', '\\\\3-\\\\2-\\\\1', dt)\n",
    "dt1 = \"2026-01-02\"\n",
    "print(\"Original date in YYY-MM-DD Format: \",dt1)\n",
    "print(\"New date in DD-MM-YYYY Format: \",change_date(dt1))"
   ]
  },
  {
   "cell_type": "code",
   "execution_count": null,
   "id": "4992f99b",
   "metadata": {},
   "outputs": [],
   "source": []
  },
  {
   "cell_type": "code",
   "execution_count": null,
   "id": "8915c0c0",
   "metadata": {},
   "outputs": [],
   "source": []
  },
  {
   "cell_type": "code",
   "execution_count": null,
   "id": "89b5310e",
   "metadata": {},
   "outputs": [],
   "source": []
  },
  {
   "cell_type": "code",
   "execution_count": null,
   "id": "a93a0893",
   "metadata": {},
   "outputs": [],
   "source": []
  },
  {
   "cell_type": "code",
   "execution_count": null,
   "id": "45a59780",
   "metadata": {},
   "outputs": [],
   "source": []
  },
  {
   "cell_type": "code",
   "execution_count": null,
   "id": "5589ae41",
   "metadata": {},
   "outputs": [],
   "source": []
  },
  {
   "cell_type": "code",
   "execution_count": null,
   "id": "fb3063f3",
   "metadata": {},
   "outputs": [],
   "source": []
  }
 ],
 "metadata": {
  "kernelspec": {
   "display_name": "Python 3 (ipykernel)",
   "language": "python",
   "name": "python3"
  },
  "language_info": {
   "codemirror_mode": {
    "name": "ipython",
    "version": 3
   },
   "file_extension": ".py",
   "mimetype": "text/x-python",
   "name": "python",
   "nbconvert_exporter": "python",
   "pygments_lexer": "ipython3",
   "version": "3.9.10"
  }
 },
 "nbformat": 4,
 "nbformat_minor": 5
}
